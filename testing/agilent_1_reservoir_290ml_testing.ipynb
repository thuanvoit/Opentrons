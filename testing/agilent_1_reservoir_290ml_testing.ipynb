{
 "cells": [
  {
   "cell_type": "code",
   "execution_count": 18,
   "id": "164624ca",
   "metadata": {},
   "outputs": [
    {
     "name": "stderr",
     "output_type": "stream",
     "text": [
      "/Users/thuanvo/.opentrons/robot_settings.json not found. Loading defaults\n",
      "/Users/thuanvo/.opentrons/deck_calibration.json not found. Loading defaults\n"
     ]
    },
    {
     "data": {
      "text/plain": [
       "1000"
      ]
     },
     "execution_count": 18,
     "metadata": {},
     "output_type": "execute_result"
    }
   ],
   "source": [
    "from opentrons import simulate\n",
    "#START PROTOCOL\n",
    "protocol = simulate.get_protocol_api('2.10')\n",
    "protocol.home()\n",
    "\n",
    "tbst_well = protocol.load_labware('agilent_1_reservoir_290ml', location=3)\n",
    "tuberack_15 = protocol.load_labware('opentrons_15_tuberack_falcon_15ml_conical', location='7')\n",
    "\n",
    "tiprack = protocol.load_labware('opentrons_96_tiprack_1000ul', location='1')\n",
    "pipette = protocol.load_instrument('p1000_single', 'right', tip_racks=[tiprack])\n",
    "\n",
    "\n",
    "tuberack_15.columns()\n",
    "pipette.max_volume"
   ]
  },
  {
   "cell_type": "code",
   "execution_count": 12,
   "id": "6a3c388a",
   "metadata": {},
   "outputs": [],
   "source": [
    "for line in protocol.commands(): \n",
    "    print(line)"
   ]
  },
  {
   "cell_type": "code",
   "execution_count": null,
   "id": "9d65a31b",
   "metadata": {},
   "outputs": [],
   "source": []
  }
 ],
 "metadata": {
  "kernelspec": {
   "display_name": "Python 3",
   "language": "python",
   "name": "python3"
  },
  "language_info": {
   "codemirror_mode": {
    "name": "ipython",
    "version": 3
   },
   "file_extension": ".py",
   "mimetype": "text/x-python",
   "name": "python",
   "nbconvert_exporter": "python",
   "pygments_lexer": "ipython3",
   "version": "3.8.8"
  }
 },
 "nbformat": 4,
 "nbformat_minor": 5
}
